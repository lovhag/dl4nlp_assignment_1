{
 "metadata": {
  "language_info": {
   "codemirror_mode": {
    "name": "ipython",
    "version": 3
   },
   "file_extension": ".py",
   "mimetype": "text/x-python",
   "name": "python",
   "nbconvert_exporter": "python",
   "pygments_lexer": "ipython3",
   "version": "3.8.5-final"
  },
  "orig_nbformat": 2,
  "kernelspec": {
   "name": "Python 3.8.5 64-bit ('dl4nlp_assignment_1': conda)",
   "display_name": "Python 3.8.5 64-bit ('dl4nlp_assignment_1': conda)",
   "metadata": {
    "interpreter": {
     "hash": "dfc50ec6eac23905ec9d0de14b95fb04de7a27191c56780f2104afc692b71c20"
    }
   }
  }
 },
 "nbformat": 4,
 "nbformat_minor": 2,
 "cells": [
  {
   "source": [
    "# Model 1: Attention GET DATA"
   ],
   "cell_type": "markdown",
   "metadata": {}
  },
  {
   "cell_type": "code",
   "execution_count": 4,
   "metadata": {},
   "outputs": [],
   "source": [
    "from importlib import reload  \n",
    "\n",
    "import pandas as pd\n",
    "import matplotlib.pyplot as plt\n",
    "import pickle\n",
    "\n",
    "import help_functions\n",
    "import data_processor"
   ]
  },
  {
   "source": [
    "## STRUCTURE\n",
    "1. Add the different word senses to the texts.\n",
    "2. Build a vocabulary."
   ],
   "cell_type": "markdown",
   "metadata": {}
  },
  {
   "source": [
    "## 0. BASIC HELP FUNCTIONS"
   ],
   "cell_type": "markdown",
   "metadata": {}
  },
  {
   "cell_type": "code",
   "execution_count": 3,
   "metadata": {},
   "outputs": [],
   "source": [
    "def save_data_to_file(data):\n",
    "    print(\"Given data with head:\")\n",
    "    print(data.head())\n",
    "    should_save = input(\"Do you wish to save it? (y/n): \")\n",
    "    if should_save == \"y\":\n",
    "        filename = input(\"Specify the filename to save to: \")\n",
    "        data.to_csv(filename, index=False)\n",
    "        print(\"Saved data!\")"
   ]
  },
  {
   "cell_type": "code",
   "execution_count": 2,
   "metadata": {},
   "outputs": [],
   "source": [
    "def load_data_from_file():\n",
    "    should_load = input(\"Do you wish to load data from a file? (y/n): \")\n",
    "    if should_load == \"y\":\n",
    "        filename = input(\"Specify the filename to load from: \")\n",
    "        data = pd.read_csv(filename)\n",
    "        return data"
   ]
  },
  {
   "source": [
    "## 1. Add the different word senses to the texts."
   ],
   "cell_type": "markdown",
   "metadata": {}
  },
  {
   "cell_type": "code",
   "execution_count": 8,
   "metadata": {},
   "outputs": [],
   "source": [
    "data = load_data_from_file()"
   ]
  },
  {
   "cell_type": "code",
   "execution_count": 9,
   "metadata": {},
   "outputs": [
    {
     "output_type": "execute_result",
     "data": {
      "text/plain": [
       "            sense_key       lemma  word_position  \\\n",
       "0      keep%2:42:07::      keep.v             15   \n",
       "1  national%3:01:00::  national.a             25   \n",
       "2     build%2:31:03::     build.v             38   \n",
       "3     place%1:04:00::     place.n             36   \n",
       "4  position%1:04:01::  position.n             76   \n",
       "\n",
       "                                                text  \n",
       "0  Action by the Committee In pursuance of its ma...  \n",
       "1  A guard of honour stood in formation in honour...  \n",
       "2  The principle that statistics should be timely...  \n",
       "3  Again , he appealed for additional support for...  \n",
       "4  Also , the IAEA has the lowest number of women...  "
      ],
      "text/html": "<div>\n<style scoped>\n    .dataframe tbody tr th:only-of-type {\n        vertical-align: middle;\n    }\n\n    .dataframe tbody tr th {\n        vertical-align: top;\n    }\n\n    .dataframe thead th {\n        text-align: right;\n    }\n</style>\n<table border=\"1\" class=\"dataframe\">\n  <thead>\n    <tr style=\"text-align: right;\">\n      <th></th>\n      <th>sense_key</th>\n      <th>lemma</th>\n      <th>word_position</th>\n      <th>text</th>\n    </tr>\n  </thead>\n  <tbody>\n    <tr>\n      <th>0</th>\n      <td>keep%2:42:07::</td>\n      <td>keep.v</td>\n      <td>15</td>\n      <td>Action by the Committee In pursuance of its ma...</td>\n    </tr>\n    <tr>\n      <th>1</th>\n      <td>national%3:01:00::</td>\n      <td>national.a</td>\n      <td>25</td>\n      <td>A guard of honour stood in formation in honour...</td>\n    </tr>\n    <tr>\n      <th>2</th>\n      <td>build%2:31:03::</td>\n      <td>build.v</td>\n      <td>38</td>\n      <td>The principle that statistics should be timely...</td>\n    </tr>\n    <tr>\n      <th>3</th>\n      <td>place%1:04:00::</td>\n      <td>place.n</td>\n      <td>36</td>\n      <td>Again , he appealed for additional support for...</td>\n    </tr>\n    <tr>\n      <th>4</th>\n      <td>position%1:04:01::</td>\n      <td>position.n</td>\n      <td>76</td>\n      <td>Also , the IAEA has the lowest number of women...</td>\n    </tr>\n  </tbody>\n</table>\n</div>"
     },
     "metadata": {},
     "execution_count": 9
    }
   ],
   "source": [
    "filename = \"/Users/lovhag/Projects/dl4nlp_assignment_1/a1_data/wsd_train.txt\"\n",
    "data = pd.read_table(filename,header=None,names=['sense_key', 'lemma', 'word_position', 'text'])\n",
    "#data = data.iloc[0:10]\n",
    "data.head()"
   ]
  },
  {
   "cell_type": "code",
   "execution_count": 10,
   "metadata": {},
   "outputs": [
    {
     "output_type": "execute_result",
     "data": {
      "text/plain": [
       "                                                text       lemma  word_pos  \\\n",
       "0  Action by the Committee In pursuance of its ma...      keep.v        15   \n",
       "1  A guard of honour stood in formation in honour...  national.a        25   \n",
       "2  The principle that statistics should be timely...     build.v        38   \n",
       "3  Again , he appealed for additional support for...     place.n        36   \n",
       "4  Also , the IAEA has the lowest number of women...  position.n        76   \n",
       "\n",
       "            sense_key  \n",
       "0      keep%2:42:07::  \n",
       "1  national%3:01:00::  \n",
       "2     build%2:31:03::  \n",
       "3     place%1:04:00::  \n",
       "4  position%1:04:01::  "
      ],
      "text/html": "<div>\n<style scoped>\n    .dataframe tbody tr th:only-of-type {\n        vertical-align: middle;\n    }\n\n    .dataframe tbody tr th {\n        vertical-align: top;\n    }\n\n    .dataframe thead th {\n        text-align: right;\n    }\n</style>\n<table border=\"1\" class=\"dataframe\">\n  <thead>\n    <tr style=\"text-align: right;\">\n      <th></th>\n      <th>text</th>\n      <th>lemma</th>\n      <th>word_pos</th>\n      <th>sense_key</th>\n    </tr>\n  </thead>\n  <tbody>\n    <tr>\n      <th>0</th>\n      <td>Action by the Committee In pursuance of its ma...</td>\n      <td>keep.v</td>\n      <td>15</td>\n      <td>keep%2:42:07::</td>\n    </tr>\n    <tr>\n      <th>1</th>\n      <td>A guard of honour stood in formation in honour...</td>\n      <td>national.a</td>\n      <td>25</td>\n      <td>national%3:01:00::</td>\n    </tr>\n    <tr>\n      <th>2</th>\n      <td>The principle that statistics should be timely...</td>\n      <td>build.v</td>\n      <td>38</td>\n      <td>build%2:31:03::</td>\n    </tr>\n    <tr>\n      <th>3</th>\n      <td>Again , he appealed for additional support for...</td>\n      <td>place.n</td>\n      <td>36</td>\n      <td>place%1:04:00::</td>\n    </tr>\n    <tr>\n      <th>4</th>\n      <td>Also , the IAEA has the lowest number of women...</td>\n      <td>position.n</td>\n      <td>76</td>\n      <td>position%1:04:01::</td>\n    </tr>\n  </tbody>\n</table>\n</div>"
     },
     "metadata": {},
     "execution_count": 10
    }
   ],
   "source": [
    "processor = data_processor.DataProcessor(data.text.to_list(), data.lemma.to_list(), data.word_position.to_list(), data.sense_key.to_list())\n",
    "processor.get_data().head()"
   ]
  },
  {
   "cell_type": "code",
   "execution_count": 11,
   "metadata": {},
   "outputs": [
    {
     "output_type": "execute_result",
     "data": {
      "text/plain": [
       "                                                text       lemma  word_pos  \\\n",
       "0  Action by the Committee In pursuance of its ma...      keep.v        15   \n",
       "1  A guard of honour stood in formation in honour...  national.a        25   \n",
       "2  The principle that statistics should be timely...     build.v        38   \n",
       "3  Again , he appealed for additional support for...     place.n        37   \n",
       "4  Also , the IAEA has the lowest number of women...  position.n        76   \n",
       "\n",
       "            sense_key  \n",
       "0      keep%2:42:07::  \n",
       "1  national%3:01:00::  \n",
       "2     build%2:31:03::  \n",
       "3     place%1:04:00::  \n",
       "4  position%1:04:01::  "
      ],
      "text/html": "<div>\n<style scoped>\n    .dataframe tbody tr th:only-of-type {\n        vertical-align: middle;\n    }\n\n    .dataframe tbody tr th {\n        vertical-align: top;\n    }\n\n    .dataframe thead th {\n        text-align: right;\n    }\n</style>\n<table border=\"1\" class=\"dataframe\">\n  <thead>\n    <tr style=\"text-align: right;\">\n      <th></th>\n      <th>text</th>\n      <th>lemma</th>\n      <th>word_pos</th>\n      <th>sense_key</th>\n    </tr>\n  </thead>\n  <tbody>\n    <tr>\n      <th>0</th>\n      <td>Action by the Committee In pursuance of its ma...</td>\n      <td>keep.v</td>\n      <td>15</td>\n      <td>keep%2:42:07::</td>\n    </tr>\n    <tr>\n      <th>1</th>\n      <td>A guard of honour stood in formation in honour...</td>\n      <td>national.a</td>\n      <td>25</td>\n      <td>national%3:01:00::</td>\n    </tr>\n    <tr>\n      <th>2</th>\n      <td>The principle that statistics should be timely...</td>\n      <td>build.v</td>\n      <td>38</td>\n      <td>build%2:31:03::</td>\n    </tr>\n    <tr>\n      <th>3</th>\n      <td>Again , he appealed for additional support for...</td>\n      <td>place.n</td>\n      <td>37</td>\n      <td>place%1:04:00::</td>\n    </tr>\n    <tr>\n      <th>4</th>\n      <td>Also , the IAEA has the lowest number of women...</td>\n      <td>position.n</td>\n      <td>76</td>\n      <td>position%1:04:01::</td>\n    </tr>\n  </tbody>\n</table>\n</div>"
     },
     "metadata": {},
     "execution_count": 11
    }
   ],
   "source": [
    "processor.fix_period_spaces_and_word_index_in_data()\n",
    "processor.fix_quotations_and_word_index_in_data()\n",
    "processor.get_data().head()"
   ]
  },
  {
   "cell_type": "code",
   "execution_count": 12,
   "metadata": {},
   "outputs": [
    {
     "output_type": "execute_result",
     "data": {
      "text/plain": [
       "                                                text       lemma  word_pos  \\\n",
       "0  Action by the Committee In pursuance of its ma...      keep.v        15   \n",
       "1  A guard of honour stood in formation in honour...  national.a        25   \n",
       "2  The principle that statistics should be timely...     build.v        38   \n",
       "3  Again , he appealed for additional support for...     place.n        37   \n",
       "4  Also , the IAEA has the lowest number of women...  position.n        76   \n",
       "\n",
       "            sense_key                                    lemmatized_text  \n",
       "0      keep%2:42:07::  action by the Committee in pursuance of -PRON-...  \n",
       "1  national%3:01:00::  a guard of honour stand in formation in honour...  \n",
       "2     build%2:31:03::  the principle that statistic should be timely ...  \n",
       "3     place%1:04:00::  again , -PRON- appeal for additional support f...  \n",
       "4  position%1:04:01::  also , the IAEA have the low number of woman p...  "
      ],
      "text/html": "<div>\n<style scoped>\n    .dataframe tbody tr th:only-of-type {\n        vertical-align: middle;\n    }\n\n    .dataframe tbody tr th {\n        vertical-align: top;\n    }\n\n    .dataframe thead th {\n        text-align: right;\n    }\n</style>\n<table border=\"1\" class=\"dataframe\">\n  <thead>\n    <tr style=\"text-align: right;\">\n      <th></th>\n      <th>text</th>\n      <th>lemma</th>\n      <th>word_pos</th>\n      <th>sense_key</th>\n      <th>lemmatized_text</th>\n    </tr>\n  </thead>\n  <tbody>\n    <tr>\n      <th>0</th>\n      <td>Action by the Committee In pursuance of its ma...</td>\n      <td>keep.v</td>\n      <td>15</td>\n      <td>keep%2:42:07::</td>\n      <td>action by the Committee in pursuance of -PRON-...</td>\n    </tr>\n    <tr>\n      <th>1</th>\n      <td>A guard of honour stood in formation in honour...</td>\n      <td>national.a</td>\n      <td>25</td>\n      <td>national%3:01:00::</td>\n      <td>a guard of honour stand in formation in honour...</td>\n    </tr>\n    <tr>\n      <th>2</th>\n      <td>The principle that statistics should be timely...</td>\n      <td>build.v</td>\n      <td>38</td>\n      <td>build%2:31:03::</td>\n      <td>the principle that statistic should be timely ...</td>\n    </tr>\n    <tr>\n      <th>3</th>\n      <td>Again , he appealed for additional support for...</td>\n      <td>place.n</td>\n      <td>37</td>\n      <td>place%1:04:00::</td>\n      <td>again , -PRON- appeal for additional support f...</td>\n    </tr>\n    <tr>\n      <th>4</th>\n      <td>Also , the IAEA has the lowest number of women...</td>\n      <td>position.n</td>\n      <td>76</td>\n      <td>position%1:04:01::</td>\n      <td>also , the IAEA have the low number of woman p...</td>\n    </tr>\n  </tbody>\n</table>\n</div>"
     },
     "metadata": {},
     "execution_count": 12
    }
   ],
   "source": [
    "processor.lemmatize_text_in_data()\n",
    "processor.get_data().head()"
   ]
  },
  {
   "cell_type": "code",
   "execution_count": 9,
   "metadata": {},
   "outputs": [],
   "source": [
    "def check_lemmas_matching(row, text_col, word_pos_col):\n",
    "    text_splitted = row[text_col].split(' ')\n",
    "    lemma_in_text = text_splitted[row[word_pos_col]]\n",
    "    return lemma_in_text == row.lemma[:-2]"
   ]
  },
  {
   "cell_type": "code",
   "execution_count": 10,
   "metadata": {},
   "outputs": [],
   "source": [
    "lemmas_matching_col = processor.get_data().apply(lambda x: check_lemmas_matching(x, 'lemmatized_text', 'word_pos'), axis=1)"
   ]
  },
  {
   "cell_type": "code",
   "execution_count": 11,
   "metadata": {},
   "outputs": [
    {
     "output_type": "execute_result",
     "data": {
      "text/plain": [
       "45       False\n",
       "61       False\n",
       "93       False\n",
       "172      False\n",
       "215      False\n",
       "         ...  \n",
       "75902    False\n",
       "75903    False\n",
       "75958    False\n",
       "75967    False\n",
       "76048    False\n",
       "Length: 1979, dtype: bool"
      ]
     },
     "metadata": {},
     "execution_count": 11
    }
   ],
   "source": [
    "lemmas_matching_col[lemmas_matching_col == False]"
   ]
  },
  {
   "cell_type": "code",
   "execution_count": 12,
   "metadata": {},
   "outputs": [],
   "source": [
    "def look_at_data_example(data, show_index):\n",
    "    row = data.iloc[show_index]\n",
    "    print(f\"lemma: {row.lemma}\")\n",
    "    print(\"\")\n",
    "    print(f\"original: {row.text}\")\n",
    "    print(\"\")\n",
    "    print(f\"lemmatized: {row.lemmatized_text}\")\n",
    "    print(\"\")\n",
    "    text_splitted = row.text.split(' ')\n",
    "    lemmatized_text_splitted = row.lemmatized_text.split(' ')\n",
    "    print(f\"lemma in original: {text_splitted[row.word_pos]}\")\n",
    "    print(f\"lemma in lemmatized: {lemmatized_text_splitted[row.word_pos]}\")"
   ]
  },
  {
   "cell_type": "code",
   "execution_count": 13,
   "metadata": {},
   "outputs": [
    {
     "output_type": "stream",
     "name": "stdout",
     "text": [
      "lemma: time.n\n\noriginal: To begin with , South-North dialogue encompasses a broad field , from political and diplomatic exchanges through trade , poverty eradication , investment , technology , industrialization , capacity-building and financing for development to the empowering of people . A recent cover story in Time magazine featured our esteemed Secretary-General . It called him a dreamer .\n\nlemmatized: to begin with , south-north dialogue encompass a broad field , from political and diplomatic exchange through trade , poverty eradication , investment , technology , industrialization , capacity-building and financing for development to the empowering of people . a recent cover story in Time magazine feature -PRON- esteemed secretary-general . -PRON- call -PRON- a dreamer .\n\nlemma in original: Time\nlemma in lemmatized: Time\n"
     ]
    }
   ],
   "source": [
    "look_at_data_example(processor.get_data(), 45)"
   ]
  },
  {
   "source": [
    "#### Save lemmatized data"
   ],
   "cell_type": "markdown",
   "metadata": {}
  },
  {
   "cell_type": "code",
   "execution_count": 15,
   "metadata": {},
   "outputs": [
    {
     "output_type": "stream",
     "name": "stdout",
     "text": [
      "Given data with head:\n",
      "                                                text       lemma  word_pos  \\\n",
      "0  Action by the Committee In pursuance of its ma...      keep.v        15   \n",
      "1  A guard of honour stood in formation in honour...  national.a        25   \n",
      "2  The principle that statistics should be timely...     build.v        38   \n",
      "3  Again , he appealed for additional support for...     place.n        37   \n",
      "4  Also , the IAEA has the lowest number of women...  position.n        76   \n",
      "\n",
      "            sense_key                                    lemmatized_text  \n",
      "0      keep%2:42:07::  action by the Committee in pursuance of -PRON-...  \n",
      "1  national%3:01:00::  a guard of honour stand in formation in honour...  \n",
      "2     build%2:31:03::  the principle that statistic should be timely ...  \n",
      "3     place%1:04:00::  again , -PRON- appeal for additional support f...  \n",
      "4  position%1:04:01::  also , the IAEA have the low number of woman p...  \n",
      "Saved data!\n"
     ]
    }
   ],
   "source": [
    "save_data_to_file(processor.get_data())"
   ]
  },
  {
   "source": [
    "#### Get sense encoded text"
   ],
   "cell_type": "markdown",
   "metadata": {}
  },
  {
   "cell_type": "code",
   "execution_count": 14,
   "metadata": {},
   "outputs": [
    {
     "output_type": "execute_result",
     "data": {
      "text/plain": [
       "                                                text       lemma  word_pos  \\\n",
       "0  Action by the Committee In pursuance of its ma...      keep.v        15   \n",
       "1  A guard of honour stood in formation in honour...  national.a        25   \n",
       "2  The principle that statistics should be timely...     build.v        38   \n",
       "3  Again , he appealed for additional support for...     place.n        37   \n",
       "4  Also , the IAEA has the lowest number of women...  position.n        76   \n",
       "\n",
       "            sense_key                                    lemmatized_text  \\\n",
       "0      keep%2:42:07::  action by the Committee in pursuance of -PRON-...   \n",
       "1  national%3:01:00::  a guard of honour stand in formation in honour...   \n",
       "2     build%2:31:03::  the principle that statistic should be timely ...   \n",
       "3     place%1:04:00::  again , -PRON- appeal for additional support f...   \n",
       "4  position%1:04:01::  also , the IAEA have the low number of woman p...   \n",
       "\n",
       "  sensed_lemma                                 sense_encoded_text  \n",
       "0       keep_1  [action, by, the, Committee, in, pursuance, of...  \n",
       "1   national_1  [a, guard, of, honour, stand, in, formation, i...  \n",
       "2      build_1  [the, principle, that, statistic, should, be, ...  \n",
       "3      place_1  [again, ,, -PRON-, appeal, for, additional, su...  \n",
       "4   position_1  [also, ,, the, IAEA, have, the, low, number, o...  "
      ],
      "text/html": "<div>\n<style scoped>\n    .dataframe tbody tr th:only-of-type {\n        vertical-align: middle;\n    }\n\n    .dataframe tbody tr th {\n        vertical-align: top;\n    }\n\n    .dataframe thead th {\n        text-align: right;\n    }\n</style>\n<table border=\"1\" class=\"dataframe\">\n  <thead>\n    <tr style=\"text-align: right;\">\n      <th></th>\n      <th>text</th>\n      <th>lemma</th>\n      <th>word_pos</th>\n      <th>sense_key</th>\n      <th>lemmatized_text</th>\n      <th>sensed_lemma</th>\n      <th>sense_encoded_text</th>\n    </tr>\n  </thead>\n  <tbody>\n    <tr>\n      <th>0</th>\n      <td>Action by the Committee In pursuance of its ma...</td>\n      <td>keep.v</td>\n      <td>15</td>\n      <td>keep%2:42:07::</td>\n      <td>action by the Committee in pursuance of -PRON-...</td>\n      <td>keep_1</td>\n      <td>[action, by, the, Committee, in, pursuance, of...</td>\n    </tr>\n    <tr>\n      <th>1</th>\n      <td>A guard of honour stood in formation in honour...</td>\n      <td>national.a</td>\n      <td>25</td>\n      <td>national%3:01:00::</td>\n      <td>a guard of honour stand in formation in honour...</td>\n      <td>national_1</td>\n      <td>[a, guard, of, honour, stand, in, formation, i...</td>\n    </tr>\n    <tr>\n      <th>2</th>\n      <td>The principle that statistics should be timely...</td>\n      <td>build.v</td>\n      <td>38</td>\n      <td>build%2:31:03::</td>\n      <td>the principle that statistic should be timely ...</td>\n      <td>build_1</td>\n      <td>[the, principle, that, statistic, should, be, ...</td>\n    </tr>\n    <tr>\n      <th>3</th>\n      <td>Again , he appealed for additional support for...</td>\n      <td>place.n</td>\n      <td>37</td>\n      <td>place%1:04:00::</td>\n      <td>again , -PRON- appeal for additional support f...</td>\n      <td>place_1</td>\n      <td>[again, ,, -PRON-, appeal, for, additional, su...</td>\n    </tr>\n    <tr>\n      <th>4</th>\n      <td>Also , the IAEA has the lowest number of women...</td>\n      <td>position.n</td>\n      <td>76</td>\n      <td>position%1:04:01::</td>\n      <td>also , the IAEA have the low number of woman p...</td>\n      <td>position_1</td>\n      <td>[also, ,, the, IAEA, have, the, low, number, o...</td>\n    </tr>\n  </tbody>\n</table>\n</div>"
     },
     "metadata": {},
     "execution_count": 14
    }
   ],
   "source": [
    "processor.sense_encode_text_in_data('lemmatized_text')\n",
    "processor.get_data().head()"
   ]
  },
  {
   "cell_type": "code",
   "execution_count": 15,
   "metadata": {},
   "outputs": [],
   "source": [
    "data = processor.get_data()"
   ]
  },
  {
   "source": [
    "Potentially check some of the less frequent lemmas."
   ],
   "cell_type": "markdown",
   "metadata": {}
  },
  {
   "cell_type": "code",
   "execution_count": 18,
   "metadata": {},
   "outputs": [
    {
     "output_type": "execute_result",
     "data": {
      "text/plain": [
       "                                                text       lemma  word_pos  \\\n",
       "0  Action by the Committee In pursuance of its ma...      keep.v        15   \n",
       "1  A guard of honour stood in formation in honour...  national.a        25   \n",
       "2  The principle that statistics should be timely...     build.v        38   \n",
       "3  Again , he appealed for additional support for...     place.n        37   \n",
       "4  Also , the IAEA has the lowest number of women...  position.n        76   \n",
       "\n",
       "            sense_key                                    lemmatized_text  \\\n",
       "0      keep%2:42:07::  action by the Committee in pursuance of -PRON-...   \n",
       "1  national%3:01:00::  a guard of honour stand in formation in honour...   \n",
       "2     build%2:31:03::  the principle that statistic should be timely ...   \n",
       "3     place%1:04:00::  again , -PRON- appeal for additional support f...   \n",
       "4  position%1:04:01::  also , the IAEA have the low number of woman p...   \n",
       "\n",
       "  sensed_lemma                                 sense_encoded_text  \n",
       "0       keep_1  [action, by, the, Committee, in, pursuance, of...  \n",
       "1   national_1  [a, guard, of, honour, stand, in, formation, i...  \n",
       "2      build_1  [the, principle, that, statistic, should, be, ...  \n",
       "3      place_1  [again, ,, -PRON-, appeal, for, additional, su...  \n",
       "4   position_1  [also, ,, the, IAEA, have, the, low, number, o...  "
      ],
      "text/html": "<div>\n<style scoped>\n    .dataframe tbody tr th:only-of-type {\n        vertical-align: middle;\n    }\n\n    .dataframe tbody tr th {\n        vertical-align: top;\n    }\n\n    .dataframe thead th {\n        text-align: right;\n    }\n</style>\n<table border=\"1\" class=\"dataframe\">\n  <thead>\n    <tr style=\"text-align: right;\">\n      <th></th>\n      <th>text</th>\n      <th>lemma</th>\n      <th>word_pos</th>\n      <th>sense_key</th>\n      <th>lemmatized_text</th>\n      <th>sensed_lemma</th>\n      <th>sense_encoded_text</th>\n    </tr>\n  </thead>\n  <tbody>\n    <tr>\n      <th>0</th>\n      <td>Action by the Committee In pursuance of its ma...</td>\n      <td>keep.v</td>\n      <td>15</td>\n      <td>keep%2:42:07::</td>\n      <td>action by the Committee in pursuance of -PRON-...</td>\n      <td>keep_1</td>\n      <td>[action, by, the, Committee, in, pursuance, of...</td>\n    </tr>\n    <tr>\n      <th>1</th>\n      <td>A guard of honour stood in formation in honour...</td>\n      <td>national.a</td>\n      <td>25</td>\n      <td>national%3:01:00::</td>\n      <td>a guard of honour stand in formation in honour...</td>\n      <td>national_1</td>\n      <td>[a, guard, of, honour, stand, in, formation, i...</td>\n    </tr>\n    <tr>\n      <th>2</th>\n      <td>The principle that statistics should be timely...</td>\n      <td>build.v</td>\n      <td>38</td>\n      <td>build%2:31:03::</td>\n      <td>the principle that statistic should be timely ...</td>\n      <td>build_1</td>\n      <td>[the, principle, that, statistic, should, be, ...</td>\n    </tr>\n    <tr>\n      <th>3</th>\n      <td>Again , he appealed for additional support for...</td>\n      <td>place.n</td>\n      <td>37</td>\n      <td>place%1:04:00::</td>\n      <td>again , -PRON- appeal for additional support f...</td>\n      <td>place_1</td>\n      <td>[again, ,, -PRON-, appeal, for, additional, su...</td>\n    </tr>\n    <tr>\n      <th>4</th>\n      <td>Also , the IAEA has the lowest number of women...</td>\n      <td>position.n</td>\n      <td>76</td>\n      <td>position%1:04:01::</td>\n      <td>also , the IAEA have the low number of woman p...</td>\n      <td>position_1</td>\n      <td>[also, ,, the, IAEA, have, the, low, number, o...</td>\n    </tr>\n  </tbody>\n</table>\n</div>"
     },
     "metadata": {},
     "execution_count": 18
    }
   ],
   "source": [
    "data.head()"
   ]
  },
  {
   "cell_type": "code",
   "execution_count": 19,
   "metadata": {},
   "outputs": [
    {
     "output_type": "execute_result",
     "data": {
      "text/plain": [
       "['action',\n",
       " 'by',\n",
       " 'the',\n",
       " 'Committee',\n",
       " 'in',\n",
       " 'pursuance',\n",
       " 'of',\n",
       " '-PRON-',\n",
       " 'mandate',\n",
       " ',',\n",
       " 'the',\n",
       " 'Committee',\n",
       " 'will',\n",
       " 'continue',\n",
       " 'to',\n",
       " 'keep_1',\n",
       " 'under',\n",
       " 'review',\n",
       " 'the',\n",
       " 'situation',\n",
       " 'relate',\n",
       " 'to',\n",
       " 'the',\n",
       " 'question',\n",
       " 'of',\n",
       " 'Palestine',\n",
       " 'and',\n",
       " 'participate',\n",
       " 'in',\n",
       " 'relevant',\n",
       " 'meeting',\n",
       " 'of',\n",
       " 'the',\n",
       " 'General',\n",
       " 'Assembly',\n",
       " 'and',\n",
       " 'the',\n",
       " 'Security',\n",
       " 'Council',\n",
       " '.',\n",
       " 'the',\n",
       " 'Committee',\n",
       " 'will',\n",
       " 'also',\n",
       " 'continue',\n",
       " 'to',\n",
       " 'monitor',\n",
       " 'the',\n",
       " 'situation',\n",
       " 'on',\n",
       " 'the',\n",
       " 'ground',\n",
       " 'and',\n",
       " 'draw',\n",
       " 'the',\n",
       " 'attention',\n",
       " 'of',\n",
       " 'the',\n",
       " 'international',\n",
       " 'community',\n",
       " 'to',\n",
       " 'urgent',\n",
       " 'development',\n",
       " 'in',\n",
       " 'the',\n",
       " 'occupied',\n",
       " 'Palestinian',\n",
       " 'Territory',\n",
       " ',',\n",
       " 'include',\n",
       " 'East',\n",
       " 'Jerusalem',\n",
       " ',',\n",
       " 'require',\n",
       " 'international',\n",
       " 'action',\n",
       " '.']"
      ]
     },
     "metadata": {},
     "execution_count": 19
    }
   ],
   "source": [
    "data.iloc[0].sense_encoded_text"
   ]
  },
  {
   "cell_type": "code",
   "execution_count": 276,
   "metadata": {},
   "outputs": [
    {
     "output_type": "execute_result",
     "data": {
      "text/plain": [
       "'Reiterating its full support for the efforts of the Secretary-General , the African Union and regional actors to find solutions to armed conflicts in the region , Reaffirming that any attempt at destabilization through violent means or seizing power by force is unacceptable , Reaffirming its resolutions 1325 ( 2000 ) and 1820 ( 2008 ) on women , peace and security , 1502 ( 2003 ) on the protection of humanitarian and United Nations personnel , and 1674 ( 2006 ) on the protection of civilians in armed conflict ,'"
      ]
     },
     "metadata": {},
     "execution_count": 276
    }
   ],
   "source": [
    "data = processor.get_data()\n",
    "data[data.sensed_lemma==\"force_4\"].iloc[2].text"
   ]
  },
  {
   "cell_type": "code",
   "execution_count": 72,
   "metadata": {},
   "outputs": [
    {
     "output_type": "stream",
     "name": "stdout",
     "text": [
      "<class 'pandas.core.frame.DataFrame'>\nRangeIndex: 76049 entries, 0 to 76048\nData columns (total 7 columns):\n #   Column              Non-Null Count  Dtype \n---  ------              --------------  ----- \n 0   text                76049 non-null  object\n 1   lemma               76049 non-null  object\n 2   word_pos            76049 non-null  int64 \n 3   sense_key           76049 non-null  object\n 4   lemmatized_text     76049 non-null  object\n 5   sensed_lemma        76049 non-null  object\n 6   sense_encoded_text  76049 non-null  object\ndtypes: int64(1), object(6)\nmemory usage: 4.1+ MB\n"
     ]
    }
   ],
   "source": [
    "data.info()"
   ]
  },
  {
   "cell_type": "code",
   "execution_count": 21,
   "metadata": {},
   "outputs": [
    {
     "output_type": "stream",
     "name": "stdout",
     "text": [
      "Given data with head:\n",
      "                                                text       lemma  word_pos  \\\n",
      "0  Action by the Committee In pursuance of its ma...      keep.v        15   \n",
      "1  A guard of honour stood in formation in honour...  national.a        25   \n",
      "2  The principle that statistics should be timely...     build.v        38   \n",
      "3  Again , he appealed for additional support for...     place.n        37   \n",
      "4  Also , the IAEA has the lowest number of women...  position.n        76   \n",
      "\n",
      "            sense_key                                    lemmatized_text  \\\n",
      "0      keep%2:42:07::  action by the Committee in pursuance of -PRON-...   \n",
      "1  national%3:01:00::  a guard of honour stand in formation in honour...   \n",
      "2     build%2:31:03::  the principle that statistic should be timely ...   \n",
      "3     place%1:04:00::  again , -PRON- appeal for additional support f...   \n",
      "4  position%1:04:01::  also , the IAEA have the low number of woman p...   \n",
      "\n",
      "  sensed_lemma                                 sense_encoded_text  \n",
      "0       keep_1  [action, by, the, Committee, in, pursuance, of...  \n",
      "1   national_1  [a, guard, of, honour, stand, in, formation, i...  \n",
      "2      build_1  [the, principle, that, statistic, should, be, ...  \n",
      "3      place_1  [again, ,, -PRON-, appeal, for, additional, su...  \n",
      "4   position_1  [also, ,, the, IAEA, have, the, low, number, o...  \n",
      "Saved data!\n"
     ]
    }
   ],
   "source": [
    "save_data_to_file(processor.get_data())"
   ]
  },
  {
   "source": [
    "## 2. Build the vocabulary"
   ],
   "cell_type": "markdown",
   "metadata": {}
  },
  {
   "cell_type": "code",
   "execution_count": 5,
   "metadata": {},
   "outputs": [],
   "source": [
    "data = load_data_from_file()"
   ]
  },
  {
   "cell_type": "code",
   "execution_count": 6,
   "metadata": {},
   "outputs": [
    {
     "output_type": "execute_result",
     "data": {
      "text/plain": [
       "97"
      ]
     },
     "metadata": {},
     "execution_count": 6
    }
   ],
   "source": [
    "voc = help_functions.Vocabulary(min_word_freq=22, include_unknown=True, lower=True, character=False)\n",
    "voc.build(data.sense_encoded_text)\n",
    "len(voc)"
   ]
  },
  {
   "cell_type": "code",
   "execution_count": 23,
   "metadata": {},
   "outputs": [
    {
     "output_type": "execute_result",
     "data": {
      "text/plain": [
       "8312"
      ]
     },
     "metadata": {},
     "execution_count": 23
    }
   ],
   "source": [
    "voc.stoi['line_9']"
   ]
  },
  {
   "source": [
    "## 2.* Create data fitting to the model"
   ],
   "cell_type": "markdown",
   "metadata": {}
  },
  {
   "cell_type": "code",
   "execution_count": 76,
   "metadata": {},
   "outputs": [],
   "source": [
    "def pad_sequence(sequence, max_sequence_len):\n",
    "    return sequence+[voc.get_pad_idx()]*(max_sequence_len-len(sequence))"
   ]
  },
  {
   "cell_type": "code",
   "execution_count": 77,
   "metadata": {},
   "outputs": [],
   "source": [
    "def create_training_data(data, max_sequence_len=None):\n",
    "    def build_X_elem(X):\n",
    "        X_elem = voc.encode([X])[0]\n",
    "        if max_sequence_len:\n",
    "            return pad_sequence(X_elem, max_sequence_len)\n",
    "        return X_elem\n",
    "\n",
    "    sense_dict = help_functions.build_sense_dict(data.lemma.to_list(), data.sense_key.to_list())\n",
    "    X_data = []\n",
    "    y_data = []\n",
    "    for index, row in data.iterrows():\n",
    "        X_data.append(build_X_elem(row.sense_encoded_text))\n",
    "        y_data.append([1])\n",
    "\n",
    "        # append faulty sense examples\n",
    "        available_senses = list(sense_dict[row.lemma].keys())\n",
    "        available_senses.remove(row.sense_key)\n",
    "        for sense in available_senses:\n",
    "            faulty_text = row.sense_encoded_text.copy()\n",
    "            #print(faulty_text)\n",
    "            faulty_text[row.word_pos] = row.lemma[:-2]+\"_\"+str(sense_dict[row.lemma][sense])\n",
    "            X_data.append(build_X_elem(faulty_text.copy()))\n",
    "            y_data.append([0])\n",
    "    return X_data, y_data"
   ]
  },
  {
   "cell_type": "code",
   "execution_count": 189,
   "metadata": {},
   "outputs": [
    {
     "output_type": "execute_result",
     "data": {
      "text/plain": [
       "1"
      ]
     },
     "metadata": {},
     "execution_count": 189
    }
   ],
   "source": [
    "import numpy as np\n",
    "v = [0,1,2]\n",
    "np.random.choice(len(v),1)[0]"
   ]
  },
  {
   "cell_type": "code",
   "execution_count": 190,
   "metadata": {},
   "outputs": [],
   "source": [
    "def create_equal_training_data(data, max_sequence_len=None):\n",
    "    def build_X_elem(X):\n",
    "        X_elem = voc.encode([X])[0]\n",
    "        if max_sequence_len:\n",
    "            return pad_sequence(X_elem, max_sequence_len)\n",
    "        return X_elem\n",
    "\n",
    "    sense_dict = help_functions.build_sense_dict(data.lemma.to_list(), data.sense_key.to_list())\n",
    "    X_data = []\n",
    "    y_data = []\n",
    "    for index, row in data.iterrows():\n",
    "        X_data.append(build_X_elem(row.sense_encoded_text))\n",
    "        y_data.append([1])\n",
    "\n",
    "        # append one faulty sense example\n",
    "        available_senses = list(sense_dict[row.lemma].keys())\n",
    "        available_senses.remove(row.sense_key)\n",
    "        faulty_sense = available_senses[np.random.choice(len(v), 1)[0]]\n",
    "        faulty_text = row.sense_encoded_text.copy()\n",
    "        faulty_text[row.word_pos] = row.lemma[:-2]+\"_\"+str(sense_dict[row.lemma][faulty_sense])\n",
    "        X_data.append(build_X_elem(faulty_text.copy()))\n",
    "        y_data.append([0])\n",
    "    return X_data, y_data"
   ]
  },
  {
   "cell_type": "code",
   "execution_count": 73,
   "metadata": {},
   "outputs": [],
   "source": [
    "def find_max_sequence_length(sequence_list):\n",
    "    max_sequence_len = 0\n",
    "    for sequence in sequence_list:\n",
    "        if len(sequence) > max_sequence_len:\n",
    "            max_sequence_len = len(sequence)\n",
    "    return max_sequence_len"
   ]
  },
  {
   "source": [
    "Max sequence length of data seems to be 283."
   ],
   "cell_type": "markdown",
   "metadata": {}
  },
  {
   "cell_type": "code",
   "execution_count": 110,
   "metadata": {},
   "outputs": [],
   "source": [
    "max_sequence_length = 283"
   ]
  },
  {
   "cell_type": "code",
   "execution_count": 74,
   "metadata": {},
   "outputs": [
    {
     "output_type": "execute_result",
     "data": {
      "text/plain": [
       "283"
      ]
     },
     "metadata": {},
     "execution_count": 74
    }
   ],
   "source": [
    "find_max_sequence_length(X_data)"
   ]
  },
  {
   "cell_type": "code",
   "execution_count": 87,
   "metadata": {},
   "outputs": [],
   "source": [
    "X_data, y_data = create_training_data(data, 283)"
   ]
  },
  {
   "cell_type": "code",
   "execution_count": 191,
   "metadata": {},
   "outputs": [
    {
     "output_type": "stream",
     "name": "stdout",
     "text": [
      "Number of samples: 152098\nSequence length per sample: 283\n"
     ]
    }
   ],
   "source": [
    "X_data_eq, y_data_eq = create_equal_training_data(data, 283)\n",
    "print(f'Number of samples: {len(y_data_eq)}')\n",
    "print(f'Sequence length per sample: {len(X_data_eq[0])}')"
   ]
  },
  {
   "cell_type": "code",
   "execution_count": 99,
   "metadata": {},
   "outputs": [],
   "source": [
    "def save_data_with_pickle(data_dict):\n",
    "    pre_filename = input(\"Specify which prefix filename you wish to save X_data and y_data to: \")\n",
    "    if pre_filename:\n",
    "        for key, value in data_dict.items():\n",
    "            filename = pre_filename+\"_\"+key+\".pickle\"\n",
    "            with open(filename, \"wb\") as fp:   #Pickling\n",
    "                pickle.dump(value, fp)"
   ]
  },
  {
   "cell_type": "code",
   "execution_count": 100,
   "metadata": {},
   "outputs": [],
   "source": [
    "save_data_with_pickle({\"X_data\": X_data, \"y_data\": y_data})"
   ]
  },
  {
   "cell_type": "code",
   "execution_count": 192,
   "metadata": {},
   "outputs": [],
   "source": [
    "save_data_with_pickle({\"X_data_eq\": X_data_eq, \"y_data_eq\": y_data_eq})"
   ]
  },
  {
   "source": [
    "Split into train and validation set."
   ],
   "cell_type": "markdown",
   "metadata": {}
  },
  {
   "cell_type": "code",
   "execution_count": 97,
   "metadata": {},
   "outputs": [],
   "source": [
    "from sklearn.model_selection import train_test_split\n",
    "X_train, X_test, y_train, y_test = train_test_split(X_data, y_data, test_size=0.33, random_state=42)"
   ]
  },
  {
   "cell_type": "code",
   "execution_count": 101,
   "metadata": {},
   "outputs": [],
   "source": [
    "save_data_with_pickle({\"X_train\": X_train, \"X_test\": X_test, \"y_train\": y_train, \"y_test\": y_test})"
   ]
  },
  {
   "cell_type": "code",
   "execution_count": 193,
   "metadata": {},
   "outputs": [],
   "source": [
    "X_train_eq, X_test_eq, y_train_eq, y_test_eq = train_test_split(X_data_eq, y_data_eq, test_size=0.33, random_state=42)\n",
    "save_data_with_pickle({\"X_train_eq\": X_train_eq, \"X_test_eq\": X_test_eq, \"y_train_eq\": y_train_eq, \"y_test_eq\": y_test_eq})"
   ]
  },
  {
   "cell_type": "code",
   "execution_count": 109,
   "metadata": {},
   "outputs": [],
   "source": [
    "save_data_with_pickle({\"voc\": voc})"
   ]
  }
 ]
}